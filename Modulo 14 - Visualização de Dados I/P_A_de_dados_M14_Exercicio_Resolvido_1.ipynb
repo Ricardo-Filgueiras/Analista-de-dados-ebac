{
  "nbformat": 4,
  "nbformat_minor": 0,
  "metadata": {
    "colab": {
      "provenance": []
    },
    "kernelspec": {
      "name": "python3",
      "display_name": "Python 3"
    }
  },
  "cells": [
    {
      "cell_type": "markdown",
      "metadata": {
        "id": "KJqp9AANOCtf"
      },
      "source": [
        "<img src=\"https://raw.githubusercontent.com/andre-marcos-perez/ebac-course-utils/main/media/logo/newebac_logo_black_half.png\" alt=\"ebac-logo\">\n",
        "\n",
        "---\n",
        "\n",
        "# **Módulo** | Análise de Dados: Visualização de Dados I\n",
        "Caderno de **Exercícios**<br>\n",
        "Professor [André Perez](https://www.linkedin.com/in/andremarcosperez/)\n",
        "\n",
        "---"
      ]
    },
    {
      "cell_type": "markdown",
      "metadata": {
        "id": "d9jDtUbDOE1-"
      },
      "source": [
        "# **Tópicos**\n",
        "\n",
        "<ol type=\"1\">\n",
        "  <li>Pacote Seaborn;</li>\n",
        "  <li>Categorias: Gráficos de Barras e de Setores;</li>\n",
        "  <li>Tendências: Gráficos de Linha e de Área.</li>\n",
        "</ol>"
      ]
    },
    {
      "cell_type": "markdown",
      "metadata": {
        "id": "SmoHgt-lwkpD"
      },
      "source": [
        "---"
      ]
    },
    {
      "cell_type": "markdown",
      "metadata": {
        "id": "GABI6OW8OfQ2"
      },
      "source": [
        "# **Exercícios**"
      ]
    },
    {
      "cell_type": "markdown",
      "metadata": {
        "id": "45DbYPgFhuR7"
      },
      "source": [
        "Nestes exercícios, você deve decidir qual é o gráfico visto em aula que melhor visualiza uma base de dados. Após decidir, você deverá criar a visualização usando o conteúdo exposto durante a aula e adicionar um pequeno parágrafo sobre um insights que pode ser extraido do gráfico."
      ]
    },
    {
      "cell_type": "markdown",
      "metadata": {
        "id": "GWgNoJN8DHyY"
      },
      "source": [
        "## 1\\. Preço do diamante por tipo de corte"
      ]
    },
    {
      "cell_type": "code",
      "metadata": {
        "id": "7w8cSL1sdVdC"
      },
      "source": [
        "import seaborn as sns\n",
        "import pandas as pd\n",
        "\n",
        "\n",
        "data = sns.load_dataset(\"diamonds\")\n",
        "#data.count()"
      ],
      "execution_count": 1,
      "outputs": []
    },
    {
      "cell_type": "code",
      "source": [
        "data.head()"
      ],
      "metadata": {
        "id": "9_oIvTF4Os6G"
      },
      "execution_count": null,
      "outputs": []
    },
    {
      "cell_type": "code",
      "metadata": {
        "id": "FzomRhmMc_QN"
      },
      "source": [
        "# gráfico do exercício 1\n",
        "\n",
        "diamonds = data[['cut','price']].groupby('cut').agg('mean').reset_index()\n",
        "diamonds.head()"
      ],
      "execution_count": null,
      "outputs": []
    },
    {
      "cell_type": "code",
      "source": [
        "grafico_diamonds = sns.barplot(data=diamonds, x='cut',y='price',errorbar=None, palette=\"dark\")\n",
        "grafico_diamonds.set(title='Meida do preço do iamante por Corte', xlabel='Tipo de Corte',ylabel='Soma valor dos Preços')"
      ],
      "metadata": {
        "id": "EBCATbjMQHP6"
      },
      "execution_count": null,
      "outputs": []
    },
    {
      "cell_type": "code",
      "source": [
        "qtds_vendas = data['cut'].value_counts()\n",
        "sns.barplot(x=qtds_vendas.index, y=qtds_vendas.values, palette='dark')"
      ],
      "metadata": {
        "id": "pm_1v-O1MaSG"
      },
      "execution_count": null,
      "outputs": []
    },
    {
      "cell_type": "markdown",
      "metadata": {
        "id": "T1v54HT4lEfs"
      },
      "source": [
        "**Insight do gráfico 1**:\n",
        "1.\n",
        "O gráfico de barra e a melhor opcão para representar os valores dos\n",
        "diamantes pelo seu tipo de corte (ou seja uma variavel categorica pela variavel numerica).\n",
        "2.\n",
        "Neste caso apesar de o corte \"Primium\" ser em media o mais caro, e o segundo mais vendido.\n"
      ]
    },
    {
      "cell_type": "markdown",
      "metadata": {
        "id": "QPUo5mDTdtRY"
      },
      "source": [
        "---"
      ]
    },
    {
      "cell_type": "markdown",
      "metadata": {
        "id": "wWfZ8iu9dwzz"
      },
      "source": [
        "## 2\\. Número de passageiros em dezembro por ano"
      ]
    },
    {
      "cell_type": "code",
      "metadata": {
        "id": "rf3l0_fpdwz0"
      },
      "source": [
        "import seaborn as sns\n",
        "\n",
        "data = sns.load_dataset(\"flights\")\n",
        "data.head()"
      ],
      "execution_count": null,
      "outputs": []
    },
    {
      "cell_type": "code",
      "source": [
        "# verificar quantos anos estão na base de dados\n",
        "qtds_anos = data.year.unique()\n",
        "print(qtds_anos)"
      ],
      "metadata": {
        "id": "U10eReXUO0PX"
      },
      "execution_count": null,
      "outputs": []
    },
    {
      "cell_type": "code",
      "source": [
        "# Pegar somente as linha do mes de Dezembro de cada ano!\n",
        "\n",
        "mes_dezembro = data[(data['year']>= 1949) & (data['month'] == 'Dec')]\n",
        "print(mes_dezembro)"
      ],
      "metadata": {
        "id": "CJhGj4JJWcFP"
      },
      "execution_count": null,
      "outputs": []
    },
    {
      "cell_type": "code",
      "metadata": {
        "id": "GS8LOuQjdwz1"
      },
      "source": [
        "#grafico de linha falhou\n",
        "\n",
        "# gráfico do exercício 2\n",
        "#flights = mes_dezembro\n",
        "#grafico = sns.lineplot(data=flights, x=\"year\", y=\"passengers\", hue=\"month\", palette=\"dark\")"
      ],
      "execution_count": null,
      "outputs": []
    },
    {
      "cell_type": "code",
      "source": [
        "# gráfico do exercício 2\n",
        "import matplotlib.pyplot as plt\n",
        "\n",
        "flights02 = mes_dezembro\n",
        "\n",
        "with sns.axes_style('whitegrid'):\n",
        "\n",
        "  grafico = sns.FacetGrid(data=flights02,palette='dark')\n",
        "  grafico.map(sns.lineplot,'year','passengers')\n",
        "  grafico.map(plt.fill_between,'year','passengers' ,alpha=0.3)\n",
        "  grafico.set(title='Passageiros de Dezembro por Ano', xlabel='Ano',ylabel='Passageiros');\n",
        "  grafico.fig.set_size_inches(w=15/2.54,h=7.5/2.54)"
      ],
      "metadata": {
        "id": "6Jmjo1VXXtbz"
      },
      "execution_count": null,
      "outputs": []
    },
    {
      "cell_type": "markdown",
      "metadata": {
        "id": "hKg9CwX6lM3r"
      },
      "source": [
        "**Insight do gráfico 2**:\n",
        "\n",
        "1.O gráfico de Área  e a melhor opcão por permitir visualizar a evolução de dezembro durante os anos.\n",
        "\n",
        "3.\n",
        "Pode se ter a noçao que o numero de passageiros cresceu muito em relação\n",
        "ao primeiro ano analisado."
      ]
    },
    {
      "cell_type": "markdown",
      "metadata": {
        "id": "ucbXdtR4dwz1"
      },
      "source": [
        "---"
      ]
    },
    {
      "cell_type": "markdown",
      "metadata": {
        "id": "OybuTdyXdxdS"
      },
      "source": [
        "## 3\\. Numero de passageiros por mês entre 1949 e 1959"
      ]
    },
    {
      "cell_type": "code",
      "metadata": {
        "id": "b-ssImdhdxdT"
      },
      "source": [
        "import seaborn as sns\n",
        "\n",
        "data = sns.load_dataset(\"flights\")\n",
        "data.head()"
      ],
      "execution_count": null,
      "outputs": []
    },
    {
      "cell_type": "code",
      "source": [
        "# Filtrando os anos pedidos.\n",
        "\n",
        "anos_df = data[(data['year']>= 1949) & (data['year'] <= 1959)]\n",
        "#print(anos_df)"
      ],
      "metadata": {
        "id": "CniRyLHNcPKo"
      },
      "execution_count": null,
      "outputs": []
    },
    {
      "cell_type": "code",
      "source": [
        "# Somando os valores dos numeros de passageiros por meses .\n",
        "\n",
        "#passageiros_por_mes = data[(data['year'] >= 1949) & (data['year'] <= 1959)].groupby('month')['passengers'].sum().reset_index()\n",
        "passageiros_por_mes = anos_df[['month','passengers']].groupby('month').agg('sum').reset_index()\n",
        "print(passageiros_por_mes)\n"
      ],
      "metadata": {
        "id": "J8fBU-_XC4ZU"
      },
      "execution_count": null,
      "outputs": []
    },
    {
      "cell_type": "code",
      "source": [
        "# gráfico do exercício 3\n",
        "\n",
        "flights = passageiros_por_mes\n",
        "\n",
        "with sns.axes_style('whitegrid'):\n",
        "\n",
        "  grafico = sns.lineplot(data=flights, x=\"month\", y=\"passengers\", palette=\"pastel\")\n",
        "  grafico.set(title='Passageiros por mês entre 1949 e 1959', xlabel='Mês', ylabel='Passageiros');"
      ],
      "metadata": {
        "id": "N8FSl4E4EYAw"
      },
      "execution_count": null,
      "outputs": []
    },
    {
      "cell_type": "markdown",
      "metadata": {
        "id": "OpIwRWGzlO8Y"
      },
      "source": [
        "**Insight do gráfico 3**:\n",
        "1. A escolha do grafico de linha nesse caso se da pela possibilidade de\n",
        "comparação entre os meses.\n",
        "3. A soma de todos os meses envidencia uma tendencia de queda no numeros de\n",
        "passageiros no mes de setembro."
      ]
    },
    {
      "cell_type": "markdown",
      "metadata": {
        "id": "wmFKH-DAdxdU"
      },
      "source": [
        "---"
      ]
    }
  ]
}